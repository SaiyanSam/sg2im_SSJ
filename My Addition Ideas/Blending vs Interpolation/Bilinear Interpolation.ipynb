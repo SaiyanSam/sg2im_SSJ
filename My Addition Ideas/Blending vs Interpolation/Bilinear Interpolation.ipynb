{
 "cells": [
  {
   "cell_type": "markdown",
   "id": "2988ff0a-f01a-40b7-8738-4425298b5525",
   "metadata": {},
   "source": [
    "## Bilinear Interpolation"
   ]
  },
  {
   "cell_type": "markdown",
   "id": "57afc26a-4dc5-43de-be63-aac0c6dc4f4c",
   "metadata": {},
   "source": [
    "**Important Note**: This code is made to work on both foreground and background images having same dimension."
   ]
  },
  {
   "cell_type": "code",
   "execution_count": null,
   "id": "ae8ad658-42df-465b-a5aa-efb8b9ce60aa",
   "metadata": {},
   "outputs": [],
   "source": [
    "import cv2\n",
    "import numpy as np\n",
    "\n",
    "foreground = cv2.imread('car.png', cv2.IMREAD_UNCHANGED)\n",
    "background = cv2.imread('square_street.jpg')\n",
    "\n",
    "if foreground.shape[2] == 4:\n",
    "    alpha_channel = foreground[:, :, 3]\n",
    "    mask = alpha_channel\n",
    "    foreground = foreground[:, :, :3]\n",
    "else:\n",
    "    gray_foreground = cv2.cvtColor(foreground, cv2.COLOR_BGR2GRAY)\n",
    "    _, mask = cv2.threshold(gray_foreground, 1, 255, cv2.THRESH_BINARY)\n",
    "\n",
    "fg_height, fg_width = foreground.shape[:2]\n",
    "bg_height, bg_width = background.shape[:2]\n",
    "\n",
    "center_x = bg_width // 2\n",
    "center_y = bg_height // 2\n",
    "top_left_x = center_x - fg_width // 2\n",
    "top_left_y = center_y - fg_height // 2\n",
    "\n",
    "roi = background[top_left_y:top_left_y + fg_height, top_left_x:top_left_x + fg_width]\n",
    "\n",
    "mask = mask.astype(np.float32) / 255.0\n",
    "\n",
    "if len(mask.shape) == 2:\n",
    "    mask = np.repeat(mask[:, :, np.newaxis], 3, axis=2)\n",
    "\n",
    "blended_roi = roi * (1 - mask) + foreground * mask\n",
    "\n",
    "background[top_left_y:top_left_y + fg_height, top_left_x:top_left_x + fg_width] = blended_roi.astype(np.uint8)\n",
    "\n",
    "cv2.imshow('Bilinear Interpolation Image', background)\n",
    "cv2.imwrite('bilinear_interpolation_blended_result.jpg', background)\n",
    "cv2.waitKey(0)\n",
    "cv2.destroyAllWindows()"
   ]
  },
  {
   "cell_type": "code",
   "execution_count": null,
   "id": "868de801-f067-4569-9fa8-09ffc50136f2",
   "metadata": {},
   "outputs": [],
   "source": []
  }
 ],
 "metadata": {
  "kernelspec": {
   "display_name": "Python 3 (ipykernel)",
   "language": "python",
   "name": "python3"
  },
  "language_info": {
   "codemirror_mode": {
    "name": "ipython",
    "version": 3
   },
   "file_extension": ".py",
   "mimetype": "text/x-python",
   "name": "python",
   "nbconvert_exporter": "python",
   "pygments_lexer": "ipython3",
   "version": "3.12.4"
  }
 },
 "nbformat": 4,
 "nbformat_minor": 5
}
